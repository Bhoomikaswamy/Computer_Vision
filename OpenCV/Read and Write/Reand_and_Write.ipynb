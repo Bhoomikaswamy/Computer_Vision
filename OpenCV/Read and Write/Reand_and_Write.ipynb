{
 "cells": [
  {
   "cell_type": "code",
   "execution_count": 1,
   "id": "eaf410c9",
   "metadata": {},
   "outputs": [],
   "source": [
    "# !pip install opencv-python"
   ]
  },
  {
   "cell_type": "code",
   "execution_count": 2,
   "id": "61efa0b2",
   "metadata": {},
   "outputs": [],
   "source": [
    "import cv2"
   ]
  },
  {
   "cell_type": "code",
   "execution_count": 3,
   "id": "cef963d8",
   "metadata": {},
   "outputs": [],
   "source": [
    "#Read the image\n",
    "image = cv2.imread(\"./PH1.jpeg\")"
   ]
  },
  {
   "cell_type": "code",
   "execution_count": 4,
   "id": "a8f6b97e",
   "metadata": {},
   "outputs": [
    {
     "name": "stdout",
     "output_type": "stream",
     "text": [
      "Image loaded successfully\n"
     ]
    }
   ],
   "source": [
    "if image is None:\n",
    "    print(\"Error\")\n",
    "else:\n",
    "    print(\"Image loaded successfully\")"
   ]
  },
  {
   "cell_type": "code",
   "execution_count": 5,
   "id": "dba9e0a5",
   "metadata": {},
   "outputs": [],
   "source": [
    "cv2.imshow(\"Image Window\", image)\n",
    "cv2.waitKey(0) # Image will be displayed until the key is pressed\n",
    "cv2.destroyAllWindows() # Closes all the open image windows"
   ]
  },
  {
   "cell_type": "code",
   "execution_count": null,
   "id": "13d4990d",
   "metadata": {},
   "outputs": [],
   "source": []
  }
 ],
 "metadata": {
  "kernelspec": {
   "display_name": "KNCVU",
   "language": "python",
   "name": "python3"
  },
  "language_info": {
   "codemirror_mode": {
    "name": "ipython",
    "version": 3
   },
   "file_extension": ".py",
   "mimetype": "text/x-python",
   "name": "python",
   "nbconvert_exporter": "python",
   "pygments_lexer": "ipython3",
   "version": "3.12.11"
  }
 },
 "nbformat": 4,
 "nbformat_minor": 5
}
